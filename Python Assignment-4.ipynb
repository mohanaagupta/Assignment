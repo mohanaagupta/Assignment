{
 "cells": [
  {
   "cell_type": "markdown",
   "metadata": {},
   "source": [
    "#### Task1.1 - Write a Python Program(with class concepts) to find the area of the triangle using the below formula.\n",
    "                                        area = (s*(s-a)*(s-b)*(s-c))^ 0.5 \n",
    "Function to take the length of the sides of triangle from user should be defined in the parent\n",
    "class and function to calculate the area should be defined in subclass."
   ]
  },
  {
   "cell_type": "code",
   "execution_count": 1,
   "metadata": {},
   "outputs": [],
   "source": [
    "class Triangle:\n",
    "    def __init__(self, side1,side2,side3):\n",
    "        self.a=side1\n",
    "        self.b=side2\n",
    "        self.c=side3"
   ]
  },
  {
   "cell_type": "code",
   "execution_count": 2,
   "metadata": {},
   "outputs": [],
   "source": [
    "class Area(Triangle):\n",
    "    def __init__(self, *args):\n",
    "        super(Area,self).__init__(*args)\n",
    "        s= (self.a+self.b+self.c)/2\n",
    "        self.area= (s*(s-self.a)*(s-self.b)*(s-self.c))**0.5\n",
    "    \n",
    "    def __str__(self):\n",
    "        return 'Area of triangle: {}'.format(self.area)"
   ]
  },
  {
   "cell_type": "code",
   "execution_count": 3,
   "metadata": {},
   "outputs": [
    {
     "name": "stdout",
     "output_type": "stream",
     "text": [
      "Area of triangle: 6.0\n"
     ]
    }
   ],
   "source": [
    "area1= Area(5,4,3)\n",
    "print(area1)"
   ]
  },
  {
   "cell_type": "markdown",
   "metadata": {},
   "source": [
    "#### Task1.2 Write a function filter_long_words() that takes a list of words and an integer n and returns the list of words that are longer than n."
   ]
  },
  {
   "cell_type": "code",
   "execution_count": 4,
   "metadata": {},
   "outputs": [],
   "source": [
    "def filter_long_words(lst, n):\n",
    "    long=[]\n",
    "    for word in lst:\n",
    "        if len(word)>n:\n",
    "            long.append(word)\n",
    "    return long\n",
    "            "
   ]
  },
  {
   "cell_type": "code",
   "execution_count": 5,
   "metadata": {},
   "outputs": [
    {
     "data": {
      "text/plain": [
       "['gvhgbj', 'hbkhbkh', 'apple']"
      ]
     },
     "execution_count": 5,
     "metadata": {},
     "output_type": "execute_result"
    }
   ],
   "source": [
    "#output\n",
    "word_list= [\"sd\",\"cdd\", \"gvhgbj\", \"hbkhbkh\",\"s\",\"at\", \"lolo\",\"apple\"]\n",
    "filter_long_words(word_list, 4)"
   ]
  },
  {
   "cell_type": "markdown",
   "metadata": {},
   "source": [
    "#### Task2.1 Write a Python program using function concept that maps list of words into a list of integers representing the lengths of the corresponding words."
   ]
  },
  {
   "cell_type": "code",
   "execution_count": 6,
   "metadata": {},
   "outputs": [],
   "source": [
    "def word_len(lst):\n",
    "    l=[]\n",
    "    for word in lst:\n",
    "        l.append(len(word))\n",
    "    return l   "
   ]
  },
  {
   "cell_type": "code",
   "execution_count": 7,
   "metadata": {},
   "outputs": [
    {
     "name": "stdout",
     "output_type": "stream",
     "text": [
      "Input List is: ['sd', 'cdd', 'gvhgbj', 'hbkhbkh', 's', 'at', 'lolo', 'apple']\n",
      "length of words in the list is: [2, 3, 6, 7, 1, 2, 4, 5]\n"
     ]
    }
   ],
   "source": [
    "#output\n",
    "print(\"Input List is: {}\".format(word_list))\n",
    "print('length of words in the list is: {}'.format(word_len(word_list)))"
   ]
  },
  {
   "cell_type": "markdown",
   "metadata": {},
   "source": [
    "#### Task2.2 Write a Python function which takes a character (i.e. a string of length 1) and returns True if it is a vowel, False otherwise."
   ]
  },
  {
   "cell_type": "code",
   "execution_count": 8,
   "metadata": {},
   "outputs": [],
   "source": [
    "def char_vowel_check(ch):\n",
    "    if ch in ['a','e','i','o','u'] or ch in ['A','E','I','O','U']:\n",
    "        return True\n",
    "    else: \n",
    "        return False"
   ]
  },
  {
   "cell_type": "code",
   "execution_count": 9,
   "metadata": {},
   "outputs": [
    {
     "name": "stdout",
     "output_type": "stream",
     "text": [
      "True\n",
      "True\n"
     ]
    }
   ],
   "source": [
    "#output\n",
    "print(char_vowel_check('A'))\n",
    "print(char_vowel_check('a'))"
   ]
  },
  {
   "cell_type": "code",
   "execution_count": null,
   "metadata": {},
   "outputs": [],
   "source": []
  }
 ],
 "metadata": {
  "kernelspec": {
   "display_name": "Python 3",
   "language": "python",
   "name": "python3"
  },
  "language_info": {
   "codemirror_mode": {
    "name": "ipython",
    "version": 3
   },
   "file_extension": ".py",
   "mimetype": "text/x-python",
   "name": "python",
   "nbconvert_exporter": "python",
   "pygments_lexer": "ipython3",
   "version": "3.8.3"
  }
 },
 "nbformat": 4,
 "nbformat_minor": 4
}
